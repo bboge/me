{
 "cells": [
  {
   "cell_type": "markdown",
   "metadata": {
    "editable": true,
    "slideshow": {
     "slide_type": ""
    },
    "tags": []
   },
   "source": [
    "# ding\n",
    "## dong"
   ]
  },
  {
   "cell_type": "markdown",
   "metadata": {
    "editable": true,
    "slideshow": {
     "slide_type": ""
    },
    "tags": []
   },
   "source": [
    "$\\begin{aligned}\n",
    "\\sin \\left[2\\left(x+\\frac{\\pi}{2}\\right)\\right] &=0 & \\sin \\left[2\\left(x+\\frac{\\pi}{2}\\right)\\right] &=1 \\\\\n",
    "2\\left(x+\\frac{\\pi}{2}\\right) &=-\\pi, 0, \\pi, 2 \\pi, 3 \\pi & 2\\left(x+\\frac{\\pi}{2}\\right) &=\\frac{\\pi}{2}, 2 \\pi+\\frac{\\pi}{2} \\\\\n",
    "x+\\frac{\\pi}{2} &=-\\frac{\\pi}{2}, 0, \\frac{\\pi}{2}, \\pi, \\frac{3 \\pi}{2} & \\pi &=\\frac{\\pi}{2}, \\frac{5 \\pi}{2} \\\\\n",
    "x &=-\\pi,-\\frac{\\pi}{2}, 0, \\frac{\\pi}{2}, \\pi & x+\\frac{\\pi}{2}, \\frac{5 \\pi}{4} \\\\\n",
    "x &=-\\frac{\\pi}{4}, \\frac{3 \\pi}{4}\n",
    "\\end{aligned}$"
   ]
  },
  {
   "cell_type": "code",
   "execution_count": null,
   "metadata": {},
   "outputs": [],
   "source": []
  }
 ],
 "metadata": {
  "kernelspec": {
   "display_name": "Python 3 (ipykernel)",
   "language": "python",
   "name": "python3"
  },
  "language_info": {
   "codemirror_mode": {
    "name": "ipython",
    "version": 3
   },
   "file_extension": ".py",
   "mimetype": "text/x-python",
   "name": "python",
   "nbconvert_exporter": "python",
   "pygments_lexer": "ipython3",
   "version": "3.9.6"
  }
 },
 "nbformat": 4,
 "nbformat_minor": 4
}
